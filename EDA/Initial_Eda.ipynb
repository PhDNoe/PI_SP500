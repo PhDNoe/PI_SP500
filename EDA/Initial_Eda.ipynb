{
 "cells": [
  {
   "cell_type": "code",
   "execution_count": 1,
   "metadata": {},
   "outputs": [],
   "source": [
    "import pandas as pd\n",
    "import numpy as np\n",
    "import yfinance as yf\n",
    "\n",
    "# https://analyzingalpha.com/yfinance-python"
   ]
  },
  {
   "cell_type": "code",
   "execution_count": 2,
   "metadata": {},
   "outputs": [
    {
     "data": {
      "text/html": [
       "<div>\n",
       "<style scoped>\n",
       "    .dataframe tbody tr th:only-of-type {\n",
       "        vertical-align: middle;\n",
       "    }\n",
       "\n",
       "    .dataframe tbody tr th {\n",
       "        vertical-align: top;\n",
       "    }\n",
       "\n",
       "    .dataframe thead th {\n",
       "        text-align: right;\n",
       "    }\n",
       "</style>\n",
       "<table border=\"1\" class=\"dataframe\">\n",
       "  <thead>\n",
       "    <tr style=\"text-align: right;\">\n",
       "      <th></th>\n",
       "      <th>Open</th>\n",
       "      <th>High</th>\n",
       "      <th>Low</th>\n",
       "      <th>Close</th>\n",
       "      <th>Volume</th>\n",
       "      <th>Dividends</th>\n",
       "      <th>Stock Splits</th>\n",
       "    </tr>\n",
       "    <tr>\n",
       "      <th>Date</th>\n",
       "      <th></th>\n",
       "      <th></th>\n",
       "      <th></th>\n",
       "      <th></th>\n",
       "      <th></th>\n",
       "      <th></th>\n",
       "      <th></th>\n",
       "    </tr>\n",
       "  </thead>\n",
       "  <tbody>\n",
       "    <tr>\n",
       "      <th>2023-03-17 00:00:00-04:00</th>\n",
       "      <td>100.839996</td>\n",
       "      <td>103.489998</td>\n",
       "      <td>100.750000</td>\n",
       "      <td>102.459999</td>\n",
       "      <td>76109100</td>\n",
       "      <td>0.0</td>\n",
       "      <td>0.0</td>\n",
       "    </tr>\n",
       "    <tr>\n",
       "      <th>2023-03-20 00:00:00-04:00</th>\n",
       "      <td>101.059998</td>\n",
       "      <td>102.580002</td>\n",
       "      <td>100.790001</td>\n",
       "      <td>101.930000</td>\n",
       "      <td>26033900</td>\n",
       "      <td>0.0</td>\n",
       "      <td>0.0</td>\n",
       "    </tr>\n",
       "    <tr>\n",
       "      <th>2023-03-21 00:00:00-04:00</th>\n",
       "      <td>101.980003</td>\n",
       "      <td>105.959999</td>\n",
       "      <td>101.860001</td>\n",
       "      <td>105.839996</td>\n",
       "      <td>33122800</td>\n",
       "      <td>0.0</td>\n",
       "      <td>0.0</td>\n",
       "    </tr>\n",
       "    <tr>\n",
       "      <th>2023-03-22 00:00:00-04:00</th>\n",
       "      <td>105.139999</td>\n",
       "      <td>107.510002</td>\n",
       "      <td>104.209999</td>\n",
       "      <td>104.220001</td>\n",
       "      <td>32240300</td>\n",
       "      <td>0.0</td>\n",
       "      <td>0.0</td>\n",
       "    </tr>\n",
       "    <tr>\n",
       "      <th>2023-03-23 00:00:00-04:00</th>\n",
       "      <td>105.889999</td>\n",
       "      <td>106.980003</td>\n",
       "      <td>105.410004</td>\n",
       "      <td>106.739998</td>\n",
       "      <td>4781070</td>\n",
       "      <td>0.0</td>\n",
       "      <td>0.0</td>\n",
       "    </tr>\n",
       "  </tbody>\n",
       "</table>\n",
       "</div>"
      ],
      "text/plain": [
       "                                 Open        High         Low       Close  \\\n",
       "Date                                                                        \n",
       "2023-03-17 00:00:00-04:00  100.839996  103.489998  100.750000  102.459999   \n",
       "2023-03-20 00:00:00-04:00  101.059998  102.580002  100.790001  101.930000   \n",
       "2023-03-21 00:00:00-04:00  101.980003  105.959999  101.860001  105.839996   \n",
       "2023-03-22 00:00:00-04:00  105.139999  107.510002  104.209999  104.220001   \n",
       "2023-03-23 00:00:00-04:00  105.889999  106.980003  105.410004  106.739998   \n",
       "\n",
       "                             Volume  Dividends  Stock Splits  \n",
       "Date                                                          \n",
       "2023-03-17 00:00:00-04:00  76109100        0.0           0.0  \n",
       "2023-03-20 00:00:00-04:00  26033900        0.0           0.0  \n",
       "2023-03-21 00:00:00-04:00  33122800        0.0           0.0  \n",
       "2023-03-22 00:00:00-04:00  32240300        0.0           0.0  \n",
       "2023-03-23 00:00:00-04:00   4781070        0.0           0.0  "
      ]
     },
     "execution_count": 2,
     "metadata": {},
     "output_type": "execute_result"
    }
   ],
   "source": [
    "goog = yf.Ticker('goog')\n",
    "data = goog.history()\n",
    "data.tail()"
   ]
  },
  {
   "cell_type": "code",
   "execution_count": 3,
   "metadata": {},
   "outputs": [
    {
     "data": {
      "text/plain": [
       "<Axes: xlabel='Date', ylabel='Open'>"
      ]
     },
     "execution_count": 3,
     "metadata": {},
     "output_type": "execute_result"
    },
    {
     "data": {
      "image/png": "[encoded data removed]",
      "text/plain": [
       "<Figure size 640x480 with 1 Axes>"
      ]
     },
     "metadata": {},
     "output_type": "display_data"
    }
   ],
   "source": [
    "import seaborn as sns\n",
    "\n",
    "sns.lineplot(x=\"Date\", y=\"Open\", data=data)"
   ]
  },
  {
   "cell_type": "markdown",
   "metadata": {},
   "source": [
    "---\n",
    "## I need all companies from SP500\n",
    "\n",
    "### Use Pandas to get the table from wikipedia (Beautifulsoup for web scrapping is using in backend)\n",
    "\n",
    "---"
   ]
  },
  {
   "cell_type": "code",
   "execution_count": 5,
   "metadata": {},
   "outputs": [],
   "source": [
    "import os \n",
    "\n",
    "path = './data/'\n",
    "isExist = os.path.exists(path+'sp500list.csv')\n",
    "\n",
    "want_save = True\n",
    "\n",
    "if isExist:\n",
    "    sp500 = pd.read_csv('./data/sp500list.csv')\n",
    "else:\n",
    "    url =  'https://en.wikipedia.org/wiki/List_of_S%26P_500_companies'\n",
    "    sp500_all = pd.read_html(url)\n",
    "    sp500 = sp500_all[0]\n",
    "\n",
    "    if want_save:\n",
    "        # Save\n",
    "        os.makedirs(path)\n",
    "        sp500.to_csv(path+'sp500list.csv', index=False)\n",
    "    "
   ]
  },
  {
   "cell_type": "markdown",
   "metadata": {},
   "source": [
    "---\n",
    "### Get data from yfinance\n",
    "\n",
    "---"
   ]
  }
 ],
 "metadata": {
  "kernelspec": {
   "display_name": "SP500",
   "language": "python",
   "name": "python3"
  },
  "language_info": {
   "codemirror_mode": {
    "name": "ipython",
    "version": 3
   },
   "file_extension": ".py",
   "mimetype": "text/x-python",
   "name": "python",
   "nbconvert_exporter": "python",
   "pygments_lexer": "ipython3",
   "version": "3.9.4"
  },
  "orig_nbformat": 4,
  "vscode": {
   "interpreter": {
    "hash": "dc6cf1e633dac389f668ea274e51d02846cf50bd86ddc4533072162ad847e4e2"
   }
  }
 },
 "nbformat": 4,
 "nbformat_minor": 2
}
