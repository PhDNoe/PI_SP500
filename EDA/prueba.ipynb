{
 "cells": [
  {
   "cell_type": "code",
   "execution_count": 3,
   "metadata": {},
   "outputs": [],
   "source": [
    "import yfinance as yf\n",
    "\n",
    "msft = yf.Ticker(\"MSFT\")\n",
    "\n"
   ]
  },
  {
   "cell_type": "code",
   "execution_count": 5,
   "metadata": {},
   "outputs": [
    {
     "data": {
      "text/plain": [
       "yfinance.Ticker object <MSFT>"
      ]
     },
     "execution_count": 5,
     "metadata": {},
     "output_type": "execute_result"
    }
   ],
   "source": [
    "msft"
   ]
  },
  {
   "cell_type": "code",
   "execution_count": 9,
   "metadata": {},
   "outputs": [
    {
     "data": {
      "text/html": [
       "<div>\n",
       "<style scoped>\n",
       "    .dataframe tbody tr th:only-of-type {\n",
       "        vertical-align: middle;\n",
       "    }\n",
       "\n",
       "    .dataframe tbody tr th {\n",
       "        vertical-align: top;\n",
       "    }\n",
       "\n",
       "    .dataframe thead th {\n",
       "        text-align: right;\n",
       "    }\n",
       "</style>\n",
       "<table border=\"1\" class=\"dataframe\">\n",
       "  <thead>\n",
       "    <tr style=\"text-align: right;\">\n",
       "      <th></th>\n",
       "      <th>Open</th>\n",
       "      <th>High</th>\n",
       "      <th>Low</th>\n",
       "      <th>Close</th>\n",
       "      <th>Volume</th>\n",
       "      <th>Dividends</th>\n",
       "      <th>Stock Splits</th>\n",
       "    </tr>\n",
       "    <tr>\n",
       "      <th>Date</th>\n",
       "      <th></th>\n",
       "      <th></th>\n",
       "      <th></th>\n",
       "      <th></th>\n",
       "      <th></th>\n",
       "      <th></th>\n",
       "      <th></th>\n",
       "    </tr>\n",
       "  </thead>\n",
       "  <tbody>\n",
       "    <tr>\n",
       "      <th>2023-02-27 00:00:00-05:00</th>\n",
       "      <td>252.460007</td>\n",
       "      <td>252.820007</td>\n",
       "      <td>249.389999</td>\n",
       "      <td>250.160004</td>\n",
       "      <td>21190000</td>\n",
       "      <td>0.0</td>\n",
       "      <td>0.0</td>\n",
       "    </tr>\n",
       "    <tr>\n",
       "      <th>2023-02-28 00:00:00-05:00</th>\n",
       "      <td>249.070007</td>\n",
       "      <td>251.490005</td>\n",
       "      <td>248.729996</td>\n",
       "      <td>249.419998</td>\n",
       "      <td>22491000</td>\n",
       "      <td>0.0</td>\n",
       "      <td>0.0</td>\n",
       "    </tr>\n",
       "    <tr>\n",
       "      <th>2023-03-01 00:00:00-05:00</th>\n",
       "      <td>250.759995</td>\n",
       "      <td>250.929993</td>\n",
       "      <td>245.789993</td>\n",
       "      <td>246.270004</td>\n",
       "      <td>27565300</td>\n",
       "      <td>0.0</td>\n",
       "      <td>0.0</td>\n",
       "    </tr>\n",
       "    <tr>\n",
       "      <th>2023-03-02 00:00:00-05:00</th>\n",
       "      <td>246.550003</td>\n",
       "      <td>251.399994</td>\n",
       "      <td>245.610001</td>\n",
       "      <td>251.110001</td>\n",
       "      <td>24808200</td>\n",
       "      <td>0.0</td>\n",
       "      <td>0.0</td>\n",
       "    </tr>\n",
       "    <tr>\n",
       "      <th>2023-03-03 00:00:00-05:00</th>\n",
       "      <td>252.190002</td>\n",
       "      <td>255.619995</td>\n",
       "      <td>251.389999</td>\n",
       "      <td>255.289993</td>\n",
       "      <td>30741300</td>\n",
       "      <td>0.0</td>\n",
       "      <td>0.0</td>\n",
       "    </tr>\n",
       "  </tbody>\n",
       "</table>\n",
       "</div>"
      ],
      "text/plain": [
       "                                 Open        High         Low       Close  \\\n",
       "Date                                                                        \n",
       "2023-02-27 00:00:00-05:00  252.460007  252.820007  249.389999  250.160004   \n",
       "2023-02-28 00:00:00-05:00  249.070007  251.490005  248.729996  249.419998   \n",
       "2023-03-01 00:00:00-05:00  250.759995  250.929993  245.789993  246.270004   \n",
       "2023-03-02 00:00:00-05:00  246.550003  251.399994  245.610001  251.110001   \n",
       "2023-03-03 00:00:00-05:00  252.190002  255.619995  251.389999  255.289993   \n",
       "\n",
       "                             Volume  Dividends  Stock Splits  \n",
       "Date                                                          \n",
       "2023-02-27 00:00:00-05:00  21190000        0.0           0.0  \n",
       "2023-02-28 00:00:00-05:00  22491000        0.0           0.0  \n",
       "2023-03-01 00:00:00-05:00  27565300        0.0           0.0  \n",
       "2023-03-02 00:00:00-05:00  24808200        0.0           0.0  \n",
       "2023-03-03 00:00:00-05:00  30741300        0.0           0.0  "
      ]
     },
     "execution_count": 9,
     "metadata": {},
     "output_type": "execute_result"
    }
   ],
   "source": [
    "# # get all stock info (slow)\n",
    "# msft.info\n",
    "\n",
    "# # fast access to subset of stock info (opportunistic)\n",
    "# msft.fast_info\n",
    "\n",
    "# get historical market data\n",
    "hist = msft.history(period=\"1mo\")\n",
    "hist.head()\n"
   ]
  },
  {
   "cell_type": "code",
   "execution_count": 10,
   "metadata": {},
   "outputs": [
    {
     "data": {
      "text/plain": [
       "{'currency': 'USD',\n",
       " 'symbol': 'MSFT',\n",
       " 'exchangeName': 'NMS',\n",
       " 'instrumentType': 'EQUITY',\n",
       " 'firstTradeDate': Timestamp('1986-03-13 09:30:00-0500', tz='America/New_York'),\n",
       " 'regularMarketTime': Timestamp('2023-03-27 13:14:41-0400', tz='America/New_York'),\n",
       " 'gmtoffset': -14400,\n",
       " 'timezone': 'EDT',\n",
       " 'exchangeTimezoneName': 'America/New_York',\n",
       " 'regularMarketPrice': 275.84,\n",
       " 'chartPreviousClose': 250.16,\n",
       " 'priceHint': 2,\n",
       " 'currentTradingPeriod': {'pre': {'start': Timestamp('2023-03-27 04:00:00-0400', tz='America/New_York'),\n",
       "   'end': Timestamp('2023-03-27 09:30:00-0400', tz='America/New_York')},\n",
       "  'regular': {'start': Timestamp('2023-03-27 09:30:00-0400', tz='America/New_York'),\n",
       "   'end': Timestamp('2023-03-27 16:00:00-0400', tz='America/New_York')},\n",
       "  'post': {'start': Timestamp('2023-03-27 16:00:00-0400', tz='America/New_York'),\n",
       "   'end': Timestamp('2023-03-27 20:00:00-0400', tz='America/New_York')}},\n",
       " 'dataGranularity': '1d',\n",
       " 'range': '1mo',\n",
       " 'validRanges': ['1d',\n",
       "  '5d',\n",
       "  '1mo',\n",
       "  '3mo',\n",
       "  '6mo',\n",
       "  '1y',\n",
       "  '2y',\n",
       "  '5y',\n",
       "  '10y',\n",
       "  'ytd',\n",
       "  'max']}"
      ]
     },
     "execution_count": 10,
     "metadata": {},
     "output_type": "execute_result"
    }
   ],
   "source": [
    "# show meta information about the history (requires history() to be called first)\n",
    "msft.history_metadata"
   ]
  }
 ],
 "metadata": {
  "kernelspec": {
   "display_name": "SP500",
   "language": "python",
   "name": "python3"
  },
  "language_info": {
   "codemirror_mode": {
    "name": "ipython",
    "version": 3
   },
   "file_extension": ".py",
   "mimetype": "text/x-python",
   "name": "python",
   "nbconvert_exporter": "python",
   "pygments_lexer": "ipython3",
   "version": "3.9.4"
  },
  "orig_nbformat": 4,
  "vscode": {
   "interpreter": {
    "hash": "dc6cf1e633dac389f668ea274e51d02846cf50bd86ddc4533072162ad847e4e2"
   }
  }
 },
 "nbformat": 4,
 "nbformat_minor": 2
}
